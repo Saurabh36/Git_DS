{
    "cells": [
        {
            "metadata": {},
            "cell_type": "markdown",
            "source": "## The battle of Neighborhods - Week1"
        },
        {
            "metadata": {},
            "cell_type": "markdown",
            "source": "### Introduction & Business Problem - Part 1"
        },
        {
            "metadata": {},
            "cell_type": "markdown",
            "source": "## Problem Background:"
        },
        {
            "metadata": {},
            "cell_type": "markdown",
            "source": "<br> The City of New York, is the most populous city in the United States. It is diverse and is the financial capital of USA. It is multicultural. It provides lot of business oppourtunities and business friendly environment. It has attracted many different players into the market. It is a global hub of business and commerce. The city is a major center for banking and finance, retailing, world trade, transportation, tourism, real estate, new media, traditional media, advertising, legal services, accountancy, insurance, theater, fashion, and the arts in the United States.\n\nThis also means that the market is highly competitive. As it is highly developed city so cost of doing business is also one of the highest. Thus, any new business venture or expansion needs to be analysed carefully. The insights derived from analysis will give good understanding of the business environment which help in strategically targeting the market. This will help in reduction of risk. And the Return on Investment will be reasonable."
        },
        {
            "metadata": {},
            "cell_type": "markdown",
            "source": "## Problem Description "
        },
        {
            "metadata": {},
            "cell_type": "markdown",
            "source": "<br> A restaurant is a business which prepares and serves food and drink to customers in return for money, either paid before the meal, after the meal, or with an open account. The City of New York is famous for its excelllent cuisine. It's food culture includes an array of international cuisines influenced by the city's immigrant history.\n1.\tCentral and Eastern European immigrants, especially Jewish immigrants - bagels, cheesecake, hot dogs, knishes, and delicatessens\n2.\tItalian immigrants - New York-style pizza and Italian cuisine\n3.\tJewish immigrants and Irish immigrants - pastrami and corned beef\n4.\tChinese and other Asian restaurants, sandwich joints, trattorias, diners, and coffeehouses are ubiquitous throughout the city\n5.\tmobile food vendors - Some 4,000 licensed by the city\n6.\tMiddle Eastern foods such as falafel and kebabs examples of modern New York street food\n7.\tIt is famous for not just Pizzerias, Cafe's but also for fine dining Michelin starred restaurants.The city is home to \"nearly one thousand of the finest and most diverse haute cuisine restaurants in the world\", according to Michelin.\n"
        },
        {
            "metadata": {},
            "cell_type": "markdown",
            "source": "<br> So it is evident that to survive in such competitive market it is very important to startegically plan. Various factors need to be studied inorder to decide on the Location such as :\n1.\tNew York Population\n2.\tNew York City Demographics\n3.\tAre there any Farmers Markets, Wholesale markets etc nearby so that the ingredients can be purchased fresh to maintain quality and cost?\n4.\tAre there any venues like Gyms, Entertainmnet zones, Parks etc nearby where floating population is high etc\n5.\tWho are the competitors in that location?\n6.\tCuisine served / Menu of the competitors\n7.\tSegmentation of the Borough\n8.\tUntapped markets\n9.\tSaturated markets etc\nThe list can go on...\nEventhough well funded XYZ Company Ltd. need to choose the correct location to start its first venture.If this is successful they can replicate the same in other locations. First move is very important, thereby choice of location is very important.\n"
        },
        {
            "metadata": {},
            "cell_type": "markdown",
            "source": "## Target Audience"
        },
        {
            "metadata": {},
            "cell_type": "markdown",
            "source": "<br> To recommend the correct location, XYZ Company Ltd has appointed me to lead of the Data Science team. The objective is to locate and recommend to the management which neighborhood of Newyork city will be best choice to start a restaurant. The Management also expects to understand the rationale of the recommendations made.\nThis would interest anyone who wants to start a new restaurant in Newyork city.\n"
        },
        {
            "metadata": {},
            "cell_type": "markdown",
            "source": "## Success Criteria"
        },
        {
            "metadata": {},
            "cell_type": "markdown",
            "source": "The success criteria of the project will be a good recommendation of borough/Neighborhood choice to XYZ Company Ltd based on Lack of such restaurants in that location and nearest suppliers of ingredients."
        },
        {
            "metadata": {},
            "cell_type": "markdown",
            "source": "## Data - Part 2"
        },
        {
            "metadata": {},
            "cell_type": "markdown",
            "source": "<br> One city will be analysed in this project : <b>Newyork City. </b>\n\nWe will be using the below datasets for analysing Newyork city"
        },
        {
            "metadata": {},
            "cell_type": "markdown",
            "source": "<b>Data 1 :</b> <br> Neighborhood has a total of 5 boroughs and 306 neighborhoods. In order to segement the neighborhoods and explore them, we will essentially need a dataset that contains the 5 boroughs and the neighborhoods that exist in each borough as well as the the latitude and logitude coordinates of each neighborhood."
        },
        {
            "metadata": {},
            "cell_type": "markdown",
            "source": "<br> This dataset exists for free on the web. Link to the dataset is : https://geo.nyu.edu/catalog/nyu_2451_34572"
        },
        {
            "metadata": {},
            "cell_type": "markdown",
            "source": "<b>Data 2 :</b> <br>Second data which will be used is the DOHMH Farmers Markets and Food Boxes dataset. In this we will be using the data of Farmers Markets."
        },
        {
            "metadata": {},
            "cell_type": "markdown",
            "source": "https://data.cityofnewyork.us/dataset/DOHMH-Farmers-Markets-and-Food-Boxes/8vwk-6iz2"
        },
        {
            "metadata": {},
            "cell_type": "markdown",
            "source": "Website-https://www.grownyc.org/greenmarketco/foodbox\nGrowNYC's Fresh Food Box Program is a food access initiative that enables under-served communities to purchase fresh, healthy, and primarily regionally grown produce well below traditional retail prices.\n\nA farmers' market is often defined as a public site used by two or more local or regional producers for the direct sale of farm products to consumers. In addition to fresh fruits and vegetables, markets may sell dairy products, fish, meat, baked goods, and other minimally processed foods."
        },
        {
            "metadata": {},
            "cell_type": "markdown",
            "source": "<b>Data 3 :</b> <br>For the below analysis we will get data from wikipedia as given below :\n\nNew York Population\nNew York City Demographics\nCuisine of New York city\nhttps://en.wikipedia.org/wiki/New_York_City <br>\nhttps://en.wikipedia.org/wiki/Economy_of_New_York_City<br>\nhttps://en.wikipedia.org/wiki/Portal:New_York_City<br>\nhttps://en.wikipedia.org/wiki/Cuisine_of_New_York_City<br>\nhttps://en.wikipedia.org/wiki/List_of_Michelin_starred_restaurants_in_New_York_City<br>"
        },
        {
            "metadata": {},
            "cell_type": "markdown",
            "source": "<b>Data 4 :</b> <br>Newyork city geographical coordinates data will be utilized as input for the Foursquare API, that will be leveraged to provision venues information for each neighborhood.We will use the Foursquare API to explore neighborhoods in New York City. "
        },
        {
            "metadata": {},
            "cell_type": "code",
            "source": "",
            "execution_count": null,
            "outputs": []
        }
    ],
    "metadata": {
        "kernelspec": {
            "name": "python3",
            "display_name": "Python 3.6",
            "language": "python"
        },
        "language_info": {
            "name": "python",
            "version": "3.6.9",
            "mimetype": "text/x-python",
            "codemirror_mode": {
                "name": "ipython",
                "version": 3
            },
            "pygments_lexer": "ipython3",
            "nbconvert_exporter": "python",
            "file_extension": ".py"
        }
    },
    "nbformat": 4,
    "nbformat_minor": 1
}